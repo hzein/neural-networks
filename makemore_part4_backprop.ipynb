{
 "cells": [
  {
   "cell_type": "markdown",
   "metadata": {},
   "source": [
    "# there no change change in the first several cells from last lecture"
   ]
  },
  {
   "cell_type": "code",
   "execution_count": 1,
   "metadata": {},
   "outputs": [],
   "source": [
    "import torch\n",
    "import torch.nn.functional as F\n",
    "import matplotlib.pyplot as plt # for making figures\n",
    "%matplotlib inline"
   ]
  },
  {
   "cell_type": "code",
   "execution_count": 2,
   "metadata": {},
   "outputs": [
    {
     "name": "stdout",
     "output_type": "stream",
     "text": [
      "32033\n",
      "15\n",
      "['emma', 'olivia', 'ava', 'isabella', 'sophia', 'charlotte', 'mia', 'amelia']\n"
     ]
    }
   ],
   "source": [
    "# read in all the words\n",
    "words = open('names.txt', 'r').read().splitlines()\n",
    "print(len(words))\n",
    "print(max(len(w) for w in words))\n",
    "print(words[:8])"
   ]
  },
  {
   "cell_type": "code",
   "execution_count": 3,
   "metadata": {},
   "outputs": [
    {
     "name": "stdout",
     "output_type": "stream",
     "text": [
      "{1: 'a', 2: 'b', 3: 'c', 4: 'd', 5: 'e', 6: 'f', 7: 'g', 8: 'h', 9: 'i', 10: 'j', 11: 'k', 12: 'l', 13: 'm', 14: 'n', 15: 'o', 16: 'p', 17: 'q', 18: 'r', 19: 's', 20: 't', 21: 'u', 22: 'v', 23: 'w', 24: 'x', 25: 'y', 26: 'z', 0: '.'}\n",
      "27\n"
     ]
    }
   ],
   "source": [
    "# build the vocabulary of characters and mappings to/from integers\n",
    "chars = sorted(list(set(''.join(words))))\n",
    "stoi = {s:i+1 for i,s in enumerate(chars)}\n",
    "stoi['.'] = 0\n",
    "itos = {i:s for s,i in stoi.items()}\n",
    "vocab_size = len(itos)\n",
    "print(itos)\n",
    "print(vocab_size)"
   ]
  },
  {
   "cell_type": "code",
   "execution_count": 4,
   "metadata": {},
   "outputs": [
    {
     "name": "stdout",
     "output_type": "stream",
     "text": [
      "torch.Size([182625, 3]) torch.Size([182625])\n",
      "torch.Size([22655, 3]) torch.Size([22655])\n",
      "torch.Size([22866, 3]) torch.Size([22866])\n"
     ]
    }
   ],
   "source": [
    "# build the dataset\n",
    "block_size = 3 # context length: how many characters do we take to predict the next one?\n",
    "\n",
    "def build_dataset(words):  \n",
    "  X, Y = [], []\n",
    "  \n",
    "  for w in words:\n",
    "    context = [0] * block_size\n",
    "    for ch in w + '.':\n",
    "      ix = stoi[ch]\n",
    "      X.append(context)\n",
    "      Y.append(ix)\n",
    "      context = context[1:] + [ix] # crop and append\n",
    "\n",
    "  X = torch.tensor(X)\n",
    "  Y = torch.tensor(Y)\n",
    "  print(X.shape, Y.shape)\n",
    "  return X, Y\n",
    "\n",
    "import random\n",
    "random.seed(42)\n",
    "random.shuffle(words)\n",
    "n1 = int(0.8*len(words))\n",
    "n2 = int(0.9*len(words))\n",
    "\n",
    "Xtr,  Ytr  = build_dataset(words[:n1])     # 80%\n",
    "Xdev, Ydev = build_dataset(words[n1:n2])   # 10%\n",
    "Xte,  Yte  = build_dataset(words[n2:])     # 10%"
   ]
  },
  {
   "cell_type": "code",
   "execution_count": 5,
   "metadata": {},
   "outputs": [],
   "source": [
    "\n",
    "# ok biolerplate done, now we get to the action:"
   ]
  },
  {
   "cell_type": "code",
   "execution_count": 6,
   "metadata": {},
   "outputs": [],
   "source": [
    "# utility function we will use later when comparing manual gradients to PyTorch gradients\n",
    "def cmp(s, dt, t):\n",
    "  ex = torch.all(dt == t.grad).item()\n",
    "  app = torch.allclose(dt, t.grad)\n",
    "  maxdiff = (dt - t.grad).abs().max().item()\n",
    "  print(f'{s:15s} | exact: {str(ex):5s} | approximate: {str(app):5s} | maxdiff: {maxdiff}')"
   ]
  },
  {
   "cell_type": "code",
   "execution_count": 7,
   "metadata": {},
   "outputs": [
    {
     "name": "stdout",
     "output_type": "stream",
     "text": [
      "4137\n"
     ]
    }
   ],
   "source": [
    "n_embd = 10 # the dimensionality of the character embedding vectors\n",
    "n_hidden = 64 # the number of neurons in the hidden layer of the MLP\n",
    "\n",
    "g = torch.Generator().manual_seed(2147483647) # for reproducibility\n",
    "C  = torch.randn((vocab_size, n_embd),            generator=g)\n",
    "# Layer 1\n",
    "W1 = torch.randn((n_embd * block_size, n_hidden), generator=g) * (5/3)/((n_embd * block_size)**0.5)\n",
    "b1 = torch.randn(n_hidden,                        generator=g) * 0.1 # using b1 just for fun, it's useless because of BN\n",
    "# Layer 2\n",
    "W2 = torch.randn((n_hidden, vocab_size),          generator=g) * 0.1\n",
    "b2 = torch.randn(vocab_size,                      generator=g) * 0.1\n",
    "# BatchNorm parameters\n",
    "bngain = torch.randn((1, n_hidden))*0.1 + 1.0\n",
    "bnbias = torch.randn((1, n_hidden))*0.1\n",
    "\n",
    "# Note: I am initializating many of these parameters in non-standard ways\n",
    "# because sometimes initializating with e.g. all zeros could mask an incorrect\n",
    "# implementation of the backward pass.\n",
    "\n",
    "parameters = [C, W1, b1, W2, b2, bngain, bnbias]\n",
    "print(sum(p.nelement() for p in parameters)) # number of parameters in total\n",
    "for p in parameters:\n",
    "  p.requires_grad = True"
   ]
  },
  {
   "cell_type": "code",
   "execution_count": 8,
   "metadata": {},
   "outputs": [],
   "source": [
    "batch_size = 32\n",
    "n = batch_size # a shorter variable also, for convenience\n",
    "# construct a minibatch\n",
    "ix = torch.randint(0, Xtr.shape[0], (batch_size,), generator=g)\n",
    "Xb, Yb = Xtr[ix], Ytr[ix] # batch X,Y"
   ]
  },
  {
   "cell_type": "code",
   "execution_count": 97,
   "metadata": {},
   "outputs": [
    {
     "data": {
      "text/plain": [
       "tensor(3.3288, grad_fn=<NegBackward0>)"
      ]
     },
     "execution_count": 97,
     "metadata": {},
     "output_type": "execute_result"
    }
   ],
   "source": [
    "# forward pass, \"chunkated\" into smaller steps that are possible to backward one at a time\n",
    "\n",
    "emb = C[Xb] # embed the characters into vectors\n",
    "embcat = emb.view(emb.shape[0], -1) # concatenate the vectors\n",
    "# Linear layer 1\n",
    "hprebn = embcat @ W1 + b1 # hidden layer pre-activation\n",
    "# BatchNorm layer\n",
    "bnmeani = 1/n*hprebn.sum(0, keepdim=True)\n",
    "bndiff = hprebn - bnmeani\n",
    "bndiff2 = bndiff**2\n",
    "bnvar = 1/(n-1)*(bndiff2).sum(0, keepdim=True) # note: Bessel's correction (dividing by n-1, not n)\n",
    "bnvar_inv = (bnvar + 1e-5)**-0.5\n",
    "bnraw = bndiff * bnvar_inv\n",
    "hpreact = bngain * bnraw + bnbias\n",
    "# Non-linearity\n",
    "h = torch.tanh(hpreact) # hidden layer\n",
    "# Linear layer 2\n",
    "logits = h @ W2 + b2 # output layer\n",
    "# cross entropy loss (same as F.cross_entropy(logits, Yb))\n",
    "logit_maxes = logits.max(1, keepdim=True).values\n",
    "norm_logits = logits - logit_maxes # subtract max for numerical stability\n",
    "counts = norm_logits.exp()\n",
    "counts_sum = counts.sum(1, keepdims=True)\n",
    "counts_sum_inv = counts_sum**-1 # if I use (1.0 / counts_sum) instead then I can't get backprop to be bit exact...\n",
    "probs = counts * counts_sum_inv\n",
    "logprobs = probs.log()\n",
    "loss = -logprobs[range(n), Yb].mean()\n",
    "\n",
    "# PyTorch backward pass\n",
    "for p in parameters:\n",
    "  p.grad = None\n",
    "for t in [logprobs, probs, counts, counts_sum, counts_sum_inv, # afaik there is no cleaner way\n",
    "          norm_logits, logit_maxes, logits, h, hpreact, bnraw,\n",
    "         bnvar_inv, bnvar, bndiff2, bndiff, hprebn, bnmeani,\n",
    "         embcat, emb]:\n",
    "  t.retain_grad()\n",
    "loss.backward()\n",
    "loss"
   ]
  },
  {
   "cell_type": "code",
   "execution_count": 64,
   "metadata": {},
   "outputs": [],
   "source": [
    "#cmp('logprobs', dlogprobs, logprobs)--------"
   ]
  },
  {
   "cell_type": "code",
   "execution_count": 65,
   "metadata": {},
   "outputs": [
    {
     "data": {
      "text/plain": [
       "tensor([ 8, 14, 15, 22,  0, 19,  9, 14,  5,  1, 20,  3,  8, 14, 12,  0, 11,  0,\n",
       "        26,  9, 25,  0,  1,  1,  7, 18,  9,  3,  5,  9,  0, 18])"
      ]
     },
     "execution_count": 65,
     "metadata": {},
     "output_type": "execute_result"
    }
   ],
   "source": [
    "Yb"
   ]
  },
  {
   "cell_type": "code",
   "execution_count": 66,
   "metadata": {},
   "outputs": [
    {
     "data": {
      "text/plain": [
       "tensor([[-2.6242, -2.3863, -3.9712, -2.9792, -3.8941, -2.6398, -3.6686, -3.3790,\n",
       "         -4.0062, -3.5338, -3.2793, -3.3196, -3.2908, -3.4343, -3.1920, -4.2832,\n",
       "         -4.6030, -3.9927, -4.1040, -3.0667, -2.9931, -3.9105, -3.6684, -2.5434,\n",
       "         -2.8642, -3.7067, -3.8389],\n",
       "        [-2.9226, -2.8773, -2.4005, -2.9574, -3.3343, -3.5385, -3.8776, -3.1069,\n",
       "         -3.8621, -3.6390, -2.9829, -3.1511, -3.0600, -3.4803, -2.9351, -3.3134,\n",
       "         -3.5592, -4.0800, -3.8581, -3.4233, -3.9496, -3.7836, -4.2560, -2.6793,\n",
       "         -3.8153, -3.3098, -3.6202],\n",
       "        [-3.9987, -3.6999, -4.2552, -4.2751, -3.7071, -3.3187, -2.7511, -2.7999,\n",
       "         -2.6811, -3.5173, -3.7910, -3.4067, -3.0724, -2.9499, -3.6690, -3.6608,\n",
       "         -4.1983, -3.3988, -3.5166, -2.3359, -2.7589, -3.3078, -3.2315, -3.1757,\n",
       "         -3.3203, -3.9188, -3.5911],\n",
       "        [-3.4424, -3.5595, -3.2303, -2.9463, -2.8343, -3.7007, -2.9367, -3.2156,\n",
       "         -2.9611, -3.9331, -3.2878, -3.6312, -3.3797, -3.1527, -2.6466, -2.7976,\n",
       "         -3.5579, -3.7704, -4.1037, -3.1324, -4.0305, -3.7165, -3.3246, -3.7564,\n",
       "         -3.6614, -3.1009, -3.1414],\n",
       "        [-4.0902, -4.0326, -3.7477, -3.7054, -3.9761, -3.2803, -3.3434, -4.0087,\n",
       "         -2.8275, -3.2868, -3.3443, -4.1866, -3.2998, -3.6801, -2.9662, -1.8000,\n",
       "         -3.8702, -2.9878, -2.9562, -2.9099, -3.1677, -4.1808, -3.8951, -4.0810,\n",
       "         -3.1591, -3.7960, -3.1167],\n",
       "        [-3.3836, -3.2998, -2.9521, -2.8045, -2.6800, -3.8065, -3.4101, -2.9280,\n",
       "         -3.5618, -4.1302, -3.1141, -4.0215, -3.5853, -3.0870, -2.5545, -3.0334,\n",
       "         -3.9380, -3.9406, -4.5978, -3.6383, -3.5374, -3.4876, -3.1744, -3.9321,\n",
       "         -4.0879, -2.5598, -3.1569],\n",
       "        [-2.9667, -4.3940, -2.7431, -4.1623, -3.4612, -3.9682, -2.6622, -2.8914,\n",
       "         -2.9634, -3.1900, -4.0095, -3.4432, -3.6266, -3.9130, -4.0133, -2.7348,\n",
       "         -2.4275, -3.1460, -4.5773, -3.4343, -3.5819, -3.0148, -3.1380, -3.7167,\n",
       "         -3.3691, -3.7257, -3.4653],\n",
       "        [-3.1247, -3.4384, -3.7165, -2.1782, -3.6013, -3.0460, -3.4277, -2.4769,\n",
       "         -3.2965, -4.6607, -3.5486, -4.2021, -3.8749, -2.8191, -3.8202, -4.2230,\n",
       "         -4.1901, -4.3458, -4.1783, -2.5356, -3.3582, -3.0312, -3.5959, -3.2326,\n",
       "         -3.7318, -2.8871, -3.3354],\n",
       "        [-3.0547, -3.4925, -4.0672, -3.3171, -4.5600, -3.2996, -2.8049, -2.4091,\n",
       "         -3.5666, -3.9082, -3.5264, -3.4837, -3.3051, -3.7007, -4.3508, -3.9433,\n",
       "         -3.8607, -3.2477, -3.7642, -2.4922, -3.3660, -2.4366, -3.1821, -3.0501,\n",
       "         -3.1428, -4.1956, -3.3732],\n",
       "        [-3.7307, -4.1581, -3.5967, -3.9693, -3.4204, -3.3802, -3.2172, -3.4888,\n",
       "         -2.3301, -2.7577, -4.2407, -3.2861, -3.2734, -3.1604, -3.6252, -3.5908,\n",
       "         -2.7020, -3.1455, -3.1394, -3.7634, -2.7147, -3.7553, -2.8815, -3.8008,\n",
       "         -3.4934, -3.3306, -3.9685],\n",
       "        [-4.1097, -4.7732, -3.3313, -3.1713, -3.4400, -3.3887, -3.9424, -5.0121,\n",
       "         -3.2582, -2.9954, -3.6504, -3.9660, -2.9376, -3.4905, -3.1184, -1.9871,\n",
       "         -2.8536, -2.8634, -2.5156, -3.4497, -3.1068, -4.5983, -4.5006, -3.6985,\n",
       "         -3.3211, -3.5709, -3.6825],\n",
       "        [-3.7757, -3.4457, -3.8131, -1.7067, -4.4170, -2.9590, -2.7153, -3.0150,\n",
       "         -3.0819, -3.4445, -4.1542, -3.8771, -3.8223, -3.5055, -4.8614, -4.9906,\n",
       "         -3.8156, -3.4182, -4.0919, -2.9377, -2.9998, -3.2223, -3.9371, -3.2025,\n",
       "         -3.0840, -3.0937, -4.1100],\n",
       "        [-4.1236, -4.1838, -3.0544, -4.2224, -3.5795, -4.2324, -2.4413, -3.2688,\n",
       "         -2.7433, -2.9835, -4.0436, -3.2707, -3.2464, -3.4725, -4.1150, -3.2499,\n",
       "         -2.5213, -3.1316, -3.1498, -3.8685, -3.0745, -3.3126, -2.4270, -4.3820,\n",
       "         -3.9131, -3.6789, -3.6012],\n",
       "        [-3.8570, -3.5617, -2.9772, -3.9410, -3.9923, -2.7492, -3.5429, -4.1691,\n",
       "         -3.4956, -3.0677, -3.5172, -3.4045, -2.6956, -3.2969, -2.8640, -3.0645,\n",
       "         -3.4327, -3.4218, -2.4681, -4.3164, -2.7389, -4.2334, -4.0927, -3.2189,\n",
       "         -3.3972, -3.3378, -3.2853],\n",
       "        [-3.1108, -3.6281, -3.6203, -2.9734, -4.0717, -3.5289, -3.3474, -2.8421,\n",
       "         -2.8496, -3.0539, -3.4399, -3.1355, -2.9746, -3.1884, -3.4993, -3.7308,\n",
       "         -3.7513, -2.9205, -3.4629, -3.0978, -2.9680, -3.0073, -3.6792, -3.2499,\n",
       "         -3.8270, -3.9194, -3.7441],\n",
       "        [-3.2086, -2.8118, -3.5428, -3.9729, -3.8652, -2.5419, -3.4387, -3.7347,\n",
       "         -3.4652, -2.9264, -3.3449, -3.0749, -2.8330, -4.0827, -3.4366, -4.0969,\n",
       "         -3.1760, -3.9162, -2.8150, -4.0780, -3.2373, -3.6536, -3.4945, -2.6597,\n",
       "         -3.0025, -3.5293, -3.8045],\n",
       "        [-3.6347, -3.7161, -2.4674, -3.1583, -2.8107, -3.1266, -4.0257, -3.6459,\n",
       "         -3.9021, -3.9667, -3.0144, -3.8984, -3.2466, -2.8098, -2.5338, -2.7594,\n",
       "         -4.0434, -4.0937, -3.6909, -3.1702, -3.6327, -4.1581, -4.7382, -2.9328,\n",
       "         -3.7867, -3.1759, -2.9182],\n",
       "        [-3.0186, -2.5049, -3.0471, -2.9181, -3.1999, -3.5303, -3.7154, -2.5934,\n",
       "         -3.6404, -4.0817, -2.6205, -4.2604, -3.7583, -3.8742, -3.0545, -3.5964,\n",
       "         -4.1484, -3.5233, -4.0960, -3.1189, -3.8675, -3.0672, -3.5921, -3.8620,\n",
       "         -3.8122, -3.1537, -2.7628],\n",
       "        [-4.1236, -4.1838, -3.0544, -4.2224, -3.5795, -4.2324, -2.4413, -3.2688,\n",
       "         -2.7433, -2.9835, -4.0436, -3.2707, -3.2464, -3.4725, -4.1150, -3.2499,\n",
       "         -2.5213, -3.1316, -3.1498, -3.8685, -3.0745, -3.3126, -2.4270, -4.3820,\n",
       "         -3.9131, -3.6789, -3.6012],\n",
       "        [-3.8553, -3.7944, -3.4591, -4.0914, -3.2692, -3.5912, -2.5799, -2.9893,\n",
       "         -3.2376, -3.3470, -3.4804, -3.1648, -2.7858, -2.7969, -4.1124, -3.7563,\n",
       "         -3.4728, -3.9373, -3.4748, -2.5872, -3.0173, -3.4300, -3.2463, -2.9685,\n",
       "         -3.5620, -3.7977, -3.5968],\n",
       "        [-2.9447, -4.2086, -4.0742, -3.1855, -3.5364, -3.4258, -3.3908, -3.3004,\n",
       "         -2.8828, -3.7737, -2.7279, -3.3140, -2.8278, -3.8013, -2.9859, -2.6812,\n",
       "         -3.9498, -3.8258, -3.2960, -2.9952, -3.8931, -3.5272, -3.8086, -3.5565,\n",
       "         -3.3422, -2.8902, -3.1868],\n",
       "        [-2.9326, -2.6421, -3.0247, -3.0384, -3.6066, -2.9191, -3.3987, -3.1234,\n",
       "         -3.6911, -3.9968, -2.9072, -3.6489, -3.7802, -3.3708, -3.0127, -3.1029,\n",
       "         -3.8489, -3.3313, -3.8503, -2.6020, -4.2793, -3.4565, -4.3168, -3.3918,\n",
       "         -3.3791, -3.5210, -3.3028],\n",
       "        [-4.1236, -4.1838, -3.0544, -4.2224, -3.5795, -4.2324, -2.4413, -3.2688,\n",
       "         -2.7433, -2.9835, -4.0436, -3.2707, -3.2464, -3.4725, -4.1150, -3.2499,\n",
       "         -2.5213, -3.1316, -3.1498, -3.8685, -3.0745, -3.3126, -2.4270, -4.3820,\n",
       "         -3.9131, -3.6789, -3.6012],\n",
       "        [-3.1928, -3.9198, -3.7175, -4.3357, -2.8478, -3.7243, -2.5838, -3.4467,\n",
       "         -3.5952, -3.1706, -3.4111, -3.2940, -3.4144, -3.3675, -3.1862, -3.0953,\n",
       "         -2.5396, -3.8020, -3.2524, -4.1431, -4.0114, -3.8172, -2.2812, -3.8820,\n",
       "         -2.9549, -3.4960, -4.0337],\n",
       "        [-3.3921, -2.5364, -3.8264, -3.0549, -3.6191, -2.8613, -3.6976, -3.5136,\n",
       "         -3.6261, -3.5611, -2.3289, -4.0658, -3.5013, -4.3740, -3.1228, -4.0132,\n",
       "         -4.0257, -4.2178, -4.3495, -3.7475, -4.2537, -3.7892, -4.5074, -1.8303,\n",
       "         -3.0362, -3.6627, -2.9133],\n",
       "        [-2.8492, -3.5791, -4.2557, -3.8611, -3.4848, -2.5927, -3.0801, -3.4558,\n",
       "         -3.4745, -3.3105, -3.4624, -2.9782, -2.8595, -3.3183, -3.7567, -4.3490,\n",
       "         -3.3833, -3.8509, -2.8743, -4.3272, -3.6421, -3.8864, -2.6981, -2.8713,\n",
       "         -2.7163, -3.1345, -4.4823],\n",
       "        [-3.3276, -3.5787, -3.9182, -4.5262, -3.0376, -3.9534, -2.2914, -3.1788,\n",
       "         -3.4618, -2.9871, -4.0035, -3.1459, -2.8758, -3.4559, -3.5381, -4.0462,\n",
       "         -2.7790, -3.6225, -3.4741, -3.3872, -3.8238, -3.3936, -2.1485, -3.8580,\n",
       "         -3.3597, -3.6395, -4.5833],\n",
       "        [-3.7655, -3.4797, -3.0365, -3.8989, -3.2807, -3.8857, -3.2558, -3.5495,\n",
       "         -3.1530, -2.9669, -3.8577, -3.5686, -3.2581, -3.2870, -2.9785, -2.8229,\n",
       "         -2.9611, -3.1196, -2.9801, -4.1680, -2.3567, -4.2793, -3.1612, -4.2750,\n",
       "         -4.1425, -3.4116, -3.0624],\n",
       "        [-2.7706, -3.1658, -4.2568, -3.8679, -3.3932, -2.8557, -3.0021, -3.2937,\n",
       "         -4.5428, -3.6033, -3.0944, -3.5490, -3.7056, -3.8885, -3.5010, -3.5118,\n",
       "         -2.5765, -3.6302, -2.7155, -3.7249, -3.3858, -3.5675, -3.2090, -2.7797,\n",
       "         -2.5780, -4.4172, -3.9201],\n",
       "        [-3.9073, -3.9338, -3.5038, -3.4669, -2.9861, -3.9421, -2.5971, -3.4072,\n",
       "         -2.5929, -3.4488, -3.4579, -3.3247, -3.5022, -3.2642, -3.2962, -2.7824,\n",
       "         -3.3512, -3.6886, -3.2738, -3.6165, -3.1994, -3.6090, -2.9474, -4.0936,\n",
       "         -3.4968, -2.9753, -3.2951],\n",
       "        [-3.3088, -2.9680, -3.8359, -2.8270, -2.9995, -3.0951, -3.2806, -3.4578,\n",
       "         -3.5300, -3.8314, -3.2899, -3.7734, -4.0836, -3.5864, -4.2497, -3.4102,\n",
       "         -3.2923, -3.5466, -3.0911, -3.1068, -2.9146, -3.6067, -3.8728, -2.5723,\n",
       "         -2.5137, -3.8538, -3.6069],\n",
       "        [-3.1276, -3.7100, -2.7673, -4.0585, -2.5748, -3.6565, -4.0510, -3.6866,\n",
       "         -4.1309, -2.8387, -3.5959, -3.4912, -3.4279, -2.5920, -3.0822, -3.2462,\n",
       "         -2.9111, -3.1378, -3.1171, -4.3042, -2.8566, -4.5961, -2.8453, -3.6912,\n",
       "         -3.9575, -3.2950, -3.9030]], grad_fn=<LogBackward0>)"
      ]
     },
     "execution_count": 66,
     "metadata": {},
     "output_type": "execute_result"
    }
   ],
   "source": [
    "logprobs"
   ]
  },
  {
   "cell_type": "code",
   "execution_count": 67,
   "metadata": {},
   "outputs": [
    {
     "data": {
      "text/plain": [
       "tensor([-4.0062, -2.9351, -3.6608, -3.3246, -4.0902, -3.6383, -3.1900, -3.8202,\n",
       "        -3.2996, -4.1581, -3.1068, -1.7067, -2.7433, -2.8640, -2.9746, -3.2086,\n",
       "        -3.8984, -3.0186, -3.6012, -3.3470, -2.8902, -2.9326, -4.1838, -3.9198,\n",
       "        -3.5136, -2.8743, -2.9871, -3.8989, -2.8557, -3.4488, -3.3088, -3.1171],\n",
       "       grad_fn=<IndexBackward0>)"
      ]
     },
     "execution_count": 67,
     "metadata": {},
     "output_type": "execute_result"
    }
   ],
   "source": [
    "# this plucking out the Yb indices from the logprobs\n",
    "logprobs[range(n), Yb]"
   ]
  },
  {
   "cell_type": "code",
   "execution_count": 68,
   "metadata": {},
   "outputs": [
    {
     "data": {
      "text/plain": [
       "tensor(-3.3288, grad_fn=<MeanBackward0>)"
      ]
     },
     "execution_count": 68,
     "metadata": {},
     "output_type": "execute_result"
    }
   ],
   "source": [
    "# Then we get the mean of the logprobs for the correct indices\n",
    "logprobs[range(n), Yb].mean()"
   ]
  },
  {
   "cell_type": "code",
   "execution_count": 69,
   "metadata": {},
   "outputs": [
    {
     "data": {
      "text/plain": [
       "tensor(3.3288, grad_fn=<NegBackward0>)"
      ]
     },
     "execution_count": 69,
     "metadata": {},
     "output_type": "execute_result"
    }
   ],
   "source": [
    "#Then we negate the mean of the logprobs for the correct indices\n",
    "-logprobs[range(n), Yb].mean()"
   ]
  },
  {
   "cell_type": "code",
   "execution_count": 70,
   "metadata": {},
   "outputs": [],
   "source": [
    "# loss = -(a + b + c)/3 That is how we get mean for the 3 numbers\n",
    "# if we simplify the above expression to loss = -1/3a + -1/3b + -1/3c\n",
    "# So the dloss/da = -1/3\n",
    "# so let us assume we have 32 numbers instead of 3 then dloss/da = -1/32 or -1/n as n the range of numbers"
   ]
  },
  {
   "cell_type": "code",
   "execution_count": 71,
   "metadata": {},
   "outputs": [],
   "source": [
    "#--------------------------------------------"
   ]
  },
  {
   "cell_type": "code",
   "execution_count": 109,
   "metadata": {},
   "outputs": [
    {
     "name": "stdout",
     "output_type": "stream",
     "text": [
      "logprobs        | exact: True  | approximate: True  | maxdiff: 0.0\n",
      "probs           | exact: True  | approximate: True  | maxdiff: 0.0\n",
      "counts_sum_inv  | exact: True  | approximate: True  | maxdiff: 0.0\n",
      "counts_sum      | exact: True  | approximate: True  | maxdiff: 0.0\n",
      "counts          | exact: True  | approximate: True  | maxdiff: 0.0\n",
      "norm_logits     | exact: True  | approximate: True  | maxdiff: 0.0\n",
      "logit_maxes     | exact: True  | approximate: True  | maxdiff: 0.0\n",
      "logits          | exact: True  | approximate: True  | maxdiff: 0.0\n",
      "h               | exact: True  | approximate: True  | maxdiff: 0.0\n",
      "W2              | exact: True  | approximate: True  | maxdiff: 0.0\n",
      "b2              | exact: True  | approximate: True  | maxdiff: 0.0\n",
      "hpreact         | exact: True  | approximate: True  | maxdiff: 0.0\n",
      "bngain          | exact: True  | approximate: True  | maxdiff: 0.0\n",
      "bnbias          | exact: True  | approximate: True  | maxdiff: 0.0\n",
      "bnraw           | exact: True  | approximate: True  | maxdiff: 0.0\n",
      "bnvar_inv       | exact: True  | approximate: True  | maxdiff: 0.0\n",
      "bnvar           | exact: True  | approximate: True  | maxdiff: 0.0\n",
      "bndiff2         | exact: True  | approximate: True  | maxdiff: 0.0\n",
      "bndiff          | exact: True  | approximate: True  | maxdiff: 0.0\n",
      "bnmeani         | exact: True  | approximate: True  | maxdiff: 0.0\n",
      "hprebn          | exact: True  | approximate: True  | maxdiff: 0.0\n",
      "embcat          | exact: True  | approximate: True  | maxdiff: 0.0\n",
      "W1              | exact: True  | approximate: True  | maxdiff: 0.0\n",
      "b1              | exact: True  | approximate: True  | maxdiff: 0.0\n",
      "emb             | exact: True  | approximate: True  | maxdiff: 0.0\n",
      "C               | exact: True  | approximate: True  | maxdiff: 0.0\n"
     ]
    }
   ],
   "source": [
    "# Exercise 1: backprop through the whole thing manually, \n",
    "# backpropagating through exactly all of the variables \n",
    "# as they are defined in the forward pass above, one by one\n",
    "\n",
    "dlogprobs = torch.zeros_like(logprobs)\n",
    "dlogprobs[range(n), Yb] = -1/n\n",
    "dprobs = (1.0/probs) * dlogprobs\n",
    "dcounts_sum_inv = (counts * dprobs).sum(1, keepdim=True)\n",
    "dcounts = counts_sum_inv * dprobs\n",
    "dcounts_sum = (-counts_sum**-2) * dcounts_sum_inv\n",
    "# Calculate gradient for this counts_sum = counts.sum(1, keepdims=True):\n",
    "#counts.shape, counts_sum.shape \n",
    "# (torch.Size([32, 27]), torch.Size([32, 1]))\n",
    "# for exampe 3 by 3 matrix\n",
    "# a11 a12 a13 ---> b1 (=a11 + a12 + a13)\n",
    "# a21 a22 a23 ---> b1 (=a21 + a22 + a23)\n",
    "# a31 a32 a33 ---> b1 (=a31 + a32 + a33)\n",
    "dcounts += torch.ones_like(counts) * dcounts_sum # Added because we already calculated dcounts.(addition node)\n",
    "dnorm_logits = counts * dcounts\n",
    "# norm_logits.shape, logits.shape, logit_maxes.shape\n",
    "# (torch.Size([32, 27]), torch.Size([32, 27]), torch.Size([32, 1]))\n",
    "# c11 c12 c13 = a11 a12 a13   b1\n",
    "# ca21 c22 c23 = a21 a22 a23 - b1\n",
    "# c31 c32 c33 = a31 a32 a33   b1\n",
    "# so for example c32 = a32 - b3\n",
    "dlogits = dnorm_logits.clone()\n",
    "dlogit_maxes = (-dnorm_logits).sum(1, keepdim=True)\n",
    "# Similar to the below code, we can use one_hot encoding to get the dlogit_maxes\n",
    "# dlogprobs = torch.zeros_like(logprobs)\n",
    "# dlogprobs[range(n), Yb] = -1/n\n",
    "dlogits += F.one_hot(logits.max(1).indices, num_classes=logits.shape[1]) * dlogit_maxes\n",
    "dh = dlogits @ W2.T\n",
    "dW2 = h.T @ dlogits\n",
    "db2 = dlogits.sum(0)\n",
    "dhpreact = (1 - h**2) * dh\n",
    "dbngain = (bnraw * dhpreact).sum(0, keepdim=True)\n",
    "dbnraw = bngain * dhpreact\n",
    "dbnbias = dhpreact.sum(0, keepdim=True)\n",
    "dbndiff = bnvar_inv * dbnraw\n",
    "dbnvar_inv = (bndiff * dbnraw).sum(0, keepdim=True)\n",
    "dbnvar = (-0.5*(bnvar + 1e-5)**-1.5) * dbnvar_inv\n",
    "dbndiff2 = (1.0/(n-1))*torch.ones_like(bndiff2) * dbnvar\n",
    "dbndiff += 2*bndiff * dbndiff2\n",
    "dhprebn = dbndiff.clone()\n",
    "dbnmeani = (-dbndiff).sum(0, keepdim=True)\n",
    "dhprebn += 1.0/n * (torch.ones_like(hprebn) * dbnmeani)\n",
    "# hprebn = embcat @ W1 + b1\n",
    "dembcat = dhprebn @ W1.T\n",
    "dW1 = embcat.T @ dhprebn\n",
    "db1 = dhprebn.sum(0)\n",
    "demb = dembcat.view(emb.shape)\n",
    "dC = torch.zeros_like(C)\n",
    "for k in range(Xb.shape[0]):\n",
    "  for j in range(Xb.shape[1]):\n",
    "    ix = Xb[k,j]\n",
    "    dC[ix] += demb[k,j]\n",
    "\n",
    "cmp('logprobs', dlogprobs, logprobs)\n",
    "cmp('probs', dprobs, probs)\n",
    "cmp('counts_sum_inv', dcounts_sum_inv, counts_sum_inv)\n",
    "cmp('counts_sum', dcounts_sum, counts_sum)\n",
    "cmp('counts', dcounts, counts)\n",
    "cmp('norm_logits', dnorm_logits, norm_logits)\n",
    "cmp('logit_maxes', dlogit_maxes, logit_maxes)\n",
    "cmp('logits', dlogits, logits)\n",
    "cmp('h', dh, h)\n",
    "cmp('W2', dW2, W2)\n",
    "cmp('b2', db2, b2)\n",
    "cmp('hpreact', dhpreact, hpreact)\n",
    "cmp('bngain', dbngain, bngain)\n",
    "cmp('bnbias', dbnbias, bnbias)\n",
    "cmp('bnraw', dbnraw, bnraw)\n",
    "cmp('bnvar_inv', dbnvar_inv, bnvar_inv)\n",
    "cmp('bnvar', dbnvar, bnvar)\n",
    "cmp('bndiff2', dbndiff2, bndiff2)\n",
    "cmp('bndiff', dbndiff, bndiff)\n",
    "cmp('bnmeani', dbnmeani, bnmeani)\n",
    "cmp('hprebn', dhprebn, hprebn)\n",
    "cmp('embcat', dembcat, embcat)\n",
    "cmp('W1', dW1, W1)\n",
    "cmp('b1', db1, b1)\n",
    "cmp('emb', demb, emb)\n",
    "cmp('C', dC, C)"
   ]
  },
  {
   "cell_type": "code",
   "execution_count": 108,
   "metadata": {},
   "outputs": [
    {
     "name": "stdout",
     "output_type": "stream",
     "text": [
      "torch.Size([32, 3, 10]) torch.Size([27, 10]) torch.Size([32, 3]) torch.Size([32, 3, 10])\n",
      "tensor([[ 1,  1,  4],\n",
      "        [18, 14,  1],\n",
      "        [11,  5,  9],\n",
      "        [ 0,  0,  1],\n",
      "        [12, 15, 14]])\n"
     ]
    }
   ],
   "source": [
    "# forward pass: emb = C[Xb]\n",
    "print(emb.shape, C.shape, Xb.shape, demb.shape)\n",
    "print(Xb[:5])"
   ]
  },
  {
   "cell_type": "code",
   "execution_count": 110,
   "metadata": {},
   "outputs": [
    {
     "name": "stdout",
     "output_type": "stream",
     "text": [
      "3.328836441040039 diff: 0.0\n"
     ]
    }
   ],
   "source": [
    "# Exercise 2: backprop through cross_entropy but all in one go\n",
    "# to complete this challenge look at the mathematical expression of the loss,\n",
    "# take the derivative, simplify the expression, and just write it out\n",
    "\n",
    "# forward pass\n",
    "\n",
    "# before:\n",
    "# logit_maxes = logits.max(1, keepdim=True).values\n",
    "# norm_logits = logits - logit_maxes # subtract max for numerical stability\n",
    "# counts = norm_logits.exp()\n",
    "# counts_sum = counts.sum(1, keepdims=True)\n",
    "# counts_sum_inv = counts_sum**-1 # if I use (1.0 / counts_sum) instead then I can't get backprop to be bit exact...\n",
    "# probs = counts * counts_sum_inv\n",
    "# logprobs = probs.log()\n",
    "# loss = -logprobs[range(n), Yb].mean()\n",
    "\n",
    "# now:\n",
    "loss_fast = F.cross_entropy(logits, Yb)\n",
    "print(loss_fast.item(), 'diff:', (loss_fast - loss).item())"
   ]
  },
  {
   "cell_type": "code",
   "execution_count": 111,
   "metadata": {},
   "outputs": [
    {
     "name": "stdout",
     "output_type": "stream",
     "text": [
      "logits          | exact: False | approximate: True  | maxdiff: 8.614733815193176e-09\n"
     ]
    }
   ],
   "source": [
    "# backward pass\n",
    "\n",
    "dlogits = F.softmax(logits, 1)\n",
    "dlogits[range(n), Yb] -= 1\n",
    "dlogits /= n\n",
    "\n",
    "cmp('logits', dlogits, logits) # I can only get approximate to be true, my maxdiff is 6e-9"
   ]
  },
  {
   "cell_type": "code",
   "execution_count": 114,
   "metadata": {},
   "outputs": [
    {
     "data": {
      "text/plain": [
       "(torch.Size([32, 27]), torch.Size([32]))"
      ]
     },
     "execution_count": 114,
     "metadata": {},
     "output_type": "execute_result"
    }
   ],
   "source": [
    "logits.shape, Yb.shape"
   ]
  },
  {
   "cell_type": "code",
   "execution_count": 115,
   "metadata": {},
   "outputs": [
    {
     "data": {
      "text/plain": [
       "tensor([0.0725, 0.0920, 0.0189, 0.0508, 0.0204, 0.0714, 0.0255, 0.0341, 0.0182,\n",
       "        0.0292, 0.0377, 0.0362, 0.0372, 0.0322, 0.0411, 0.0138, 0.0100, 0.0184,\n",
       "        0.0165, 0.0466, 0.0501, 0.0200, 0.0255, 0.0786, 0.0570, 0.0246, 0.0215],\n",
       "       grad_fn=<SelectBackward0>)"
      ]
     },
     "execution_count": 115,
     "metadata": {},
     "output_type": "execute_result"
    }
   ],
   "source": [
    "\n",
    "F.softmax(logits, 1)[0]"
   ]
  },
  {
   "cell_type": "code",
   "execution_count": 116,
   "metadata": {},
   "outputs": [
    {
     "data": {
      "text/plain": [
       "tensor([ 0.0725,  0.0920,  0.0189,  0.0508,  0.0204,  0.0714,  0.0255,  0.0341,\n",
       "        -0.9818,  0.0292,  0.0377,  0.0362,  0.0372,  0.0322,  0.0411,  0.0138,\n",
       "         0.0100,  0.0184,  0.0165,  0.0466,  0.0501,  0.0200,  0.0255,  0.0786,\n",
       "         0.0570,  0.0246,  0.0215], grad_fn=<MulBackward0>)"
      ]
     },
     "execution_count": 116,
     "metadata": {},
     "output_type": "execute_result"
    }
   ],
   "source": [
    "\n",
    "dlogits[0] * n"
   ]
  },
  {
   "cell_type": "code",
   "execution_count": 117,
   "metadata": {},
   "outputs": [
    {
     "data": {
      "text/plain": [
       "<matplotlib.image.AxesImage at 0x238d2e22690>"
      ]
     },
     "execution_count": 117,
     "metadata": {},
     "output_type": "execute_result"
    },
    {
     "data": {
      "image/png": "[encoded data removed]",
      "text/plain": [
       "<Figure size 400x400 with 1 Axes>"
      ]
     },
     "metadata": {},
     "output_type": "display_data"
    }
   ],
   "source": [
    "plt.figure(figsize=(4, 4))\n",
    "plt.imshow(dlogits.detach(), cmap='gray')"
   ]
  },
  {
   "cell_type": "code",
   "execution_count": 118,
   "metadata": {},
   "outputs": [
    {
     "name": "stdout",
     "output_type": "stream",
     "text": [
      "max diff: tensor(4.7684e-07, grad_fn=<MaxBackward1>)\n"
     ]
    }
   ],
   "source": [
    "# Exercise 3: backprop through batchnorm but all in one go\n",
    "# to complete this challenge look at the mathematical expression of the output of batchnorm,\n",
    "# take the derivative w.r.t. its input, simplify the expression, and just write it out\n",
    "\n",
    "# forward pass\n",
    "\n",
    "# before:\n",
    "# bnmeani = 1/n*hprebn.sum(0, keepdim=True)\n",
    "# bndiff = hprebn - bnmeani\n",
    "# bndiff2 = bndiff**2\n",
    "# bnvar = 1/(n-1)*(bndiff2).sum(0, keepdim=True) # note: Bessel's correction (dividing by n-1, not n)\n",
    "# bnvar_inv = (bnvar + 1e-5)**-0.5\n",
    "# bnraw = bndiff * bnvar_inv\n",
    "# hpreact = bngain * bnraw + bnbias\n",
    "\n",
    "# now:\n",
    "hpreact_fast = bngain * (hprebn - hprebn.mean(0, keepdim=True)) / torch.sqrt(hprebn.var(0, keepdim=True, unbiased=True) + 1e-5) + bnbias\n",
    "print('max diff:', (hpreact_fast - hpreact).abs().max())"
   ]
  },
  {
   "cell_type": "code",
   "execution_count": 119,
   "metadata": {},
   "outputs": [
    {
     "name": "stdout",
     "output_type": "stream",
     "text": [
      "hprebn          | exact: False | approximate: True  | maxdiff: 1.3969838619232178e-09\n"
     ]
    }
   ],
   "source": [
    "# backward pass\n",
    "\n",
    "# before we had:\n",
    "# dbnraw = bngain * dhpreact\n",
    "# dbndiff = bnvar_inv * dbnraw\n",
    "# dbnvar_inv = (bndiff * dbnraw).sum(0, keepdim=True)\n",
    "# dbnvar = (-0.5*(bnvar + 1e-5)**-1.5) * dbnvar_inv\n",
    "# dbndiff2 = (1.0/(n-1))*torch.ones_like(bndiff2) * dbnvar\n",
    "# dbndiff += (2*bndiff) * dbndiff2\n",
    "# dhprebn = dbndiff.clone()\n",
    "# dbnmeani = (-dbndiff).sum(0)\n",
    "# dhprebn += 1.0/n * (torch.ones_like(hprebn) * dbnmeani)\n",
    "\n",
    "# calculate dhprebn given dhpreact (i.e. backprop through the batchnorm)\n",
    "# (you'll also need to use some of the variables from the forward pass up above)\n",
    "\n",
    "dhprebn = bngain*bnvar_inv/n * (n*dhpreact - dhpreact.sum(0) - n/(n-1)*bnraw*(dhpreact*bnraw).sum(0))\n",
    "\n",
    "cmp('hprebn', dhprebn, hprebn) # I can only get approximate to be true, my maxdiff is 9e-10"
   ]
  },
  {
   "cell_type": "code",
   "execution_count": 120,
   "metadata": {},
   "outputs": [
    {
     "data": {
      "text/plain": [
       "(torch.Size([32, 64]),\n",
       " torch.Size([1, 64]),\n",
       " torch.Size([1, 64]),\n",
       " torch.Size([32, 64]),\n",
       " torch.Size([64]))"
      ]
     },
     "execution_count": 120,
     "metadata": {},
     "output_type": "execute_result"
    }
   ],
   "source": [
    "dhprebn.shape, bngain.shape, bnvar_inv.shape, dbnraw.shape, dbnraw.sum(0).shape"
   ]
  },
  {
   "cell_type": "code",
   "execution_count": 122,
   "metadata": {},
   "outputs": [
    {
     "name": "stdout",
     "output_type": "stream",
     "text": [
      "12297\n",
      "      0/ 200000: 3.7570\n",
      "  10000/ 200000: 2.1399\n",
      "  20000/ 200000: 2.3624\n",
      "  30000/ 200000: 2.4090\n",
      "  40000/ 200000: 2.0118\n",
      "  50000/ 200000: 2.3551\n",
      "  60000/ 200000: 2.4730\n",
      "  70000/ 200000: 2.1411\n",
      "  80000/ 200000: 2.3123\n",
      "  90000/ 200000: 2.0899\n",
      " 100000/ 200000: 1.9530\n",
      " 110000/ 200000: 2.2454\n",
      " 120000/ 200000: 2.0224\n",
      " 130000/ 200000: 2.5107\n",
      " 140000/ 200000: 2.3317\n",
      " 150000/ 200000: 2.1644\n",
      " 160000/ 200000: 1.8984\n",
      " 170000/ 200000: 1.7755\n",
      " 180000/ 200000: 2.0569\n",
      " 190000/ 200000: 1.8800\n"
     ]
    }
   ],
   "source": [
    "# Exercise 4: putting it all together!\n",
    "# Train the MLP neural net with your own backward pass\n",
    "\n",
    "# init\n",
    "n_embd = 10 # the dimensionality of the character embedding vectors\n",
    "n_hidden = 200 # the number of neurons in the hidden layer of the MLP\n",
    "\n",
    "g = torch.Generator().manual_seed(2147483647) # for reproducibility\n",
    "C  = torch.randn((vocab_size, n_embd),            generator=g)\n",
    "# Layer 1\n",
    "W1 = torch.randn((n_embd * block_size, n_hidden), generator=g) * (5/3)/((n_embd * block_size)**0.5)\n",
    "b1 = torch.randn(n_hidden,                        generator=g) * 0.1\n",
    "# Layer 2\n",
    "W2 = torch.randn((n_hidden, vocab_size),          generator=g) * 0.1\n",
    "b2 = torch.randn(vocab_size,                      generator=g) * 0.1\n",
    "\n",
    "# BatchNorm parameters\n",
    "bngain = torch.randn((1, n_hidden))*0.1 + 1.0\n",
    "bnbias = torch.randn((1, n_hidden))*0.1\n",
    "\n",
    "parameters = [C, W1, b1, W2, b2, bngain, bnbias]\n",
    "print(sum(p.nelement() for p in parameters)) # number of parameters in total\n",
    "for p in parameters:\n",
    "  p.requires_grad = True\n",
    "\n",
    "# same optimization as last time\n",
    "max_steps = 200000\n",
    "batch_size = 32\n",
    "n = batch_size # convenience\n",
    "lossi = []\n",
    "\n",
    "# use this context manager for efficiency once your backward pass is written (TODO)\n",
    "with torch.no_grad():\n",
    "\n",
    "  # kick off optimization\n",
    "  for i in range(max_steps):\n",
    "\n",
    "    # minibatch construct\n",
    "    ix = torch.randint(0, Xtr.shape[0], (batch_size,), generator=g)\n",
    "    Xb, Yb = Xtr[ix], Ytr[ix] # batch X,Y\n",
    "\n",
    "    # forward pass\n",
    "    emb = C[Xb] # embed the characters into vectors\n",
    "    embcat = emb.view(emb.shape[0], -1) # concatenate the vectors\n",
    "    # Linear layer\n",
    "    hprebn = embcat @ W1 + b1 # hidden layer pre-activation\n",
    "    # BatchNorm layer\n",
    "    # -------------------------------------------------------------\n",
    "    bnmean = hprebn.mean(0, keepdim=True)\n",
    "    bnvar = hprebn.var(0, keepdim=True, unbiased=True)\n",
    "    bnvar_inv = (bnvar + 1e-5)**-0.5\n",
    "    bnraw = (hprebn - bnmean) * bnvar_inv\n",
    "    hpreact = bngain * bnraw + bnbias\n",
    "    # -------------------------------------------------------------\n",
    "    # Non-linearity\n",
    "    h = torch.tanh(hpreact) # hidden layer\n",
    "    logits = h @ W2 + b2 # output layer\n",
    "    loss = F.cross_entropy(logits, Yb) # loss function\n",
    "\n",
    "    # backward pass\n",
    "    for p in parameters:\n",
    "      p.grad = None\n",
    "    #loss.backward() # use this for correctness comparisons, delete it later!\n",
    "\n",
    "    # manual backprop! #swole_doge_meme\n",
    "    # -----------------\n",
    "    dlogits = F.softmax(logits, 1)\n",
    "    dlogits[range(n), Yb] -= 1\n",
    "    dlogits /= n\n",
    "    # 2nd layer backprop\n",
    "    dh = dlogits @ W2.T\n",
    "    dW2 = h.T @ dlogits\n",
    "    db2 = dlogits.sum(0)\n",
    "    # tanh\n",
    "    dhpreact = (1.0 - h**2) * dh\n",
    "    # batchnorm backprop\n",
    "    dbngain = (bnraw * dhpreact).sum(0, keepdim=True)\n",
    "    dbnbias = dhpreact.sum(0, keepdim=True)\n",
    "    dhprebn = bngain*bnvar_inv/n * (n*dhpreact - dhpreact.sum(0) - n/(n-1)*bnraw*(dhpreact*bnraw).sum(0))\n",
    "    # 1st layer\n",
    "    dembcat = dhprebn @ W1.T\n",
    "    dW1 = embcat.T @ dhprebn\n",
    "    db1 = dhprebn.sum(0)\n",
    "    # embedding\n",
    "    demb = dembcat.view(emb.shape)\n",
    "    dC = torch.zeros_like(C)\n",
    "    for k in range(Xb.shape[0]):\n",
    "      for j in range(Xb.shape[1]):\n",
    "        ix = Xb[k,j]\n",
    "        dC[ix] += demb[k,j]\n",
    "    grads = [dC, dW1, db1, dW2, db2, dbngain, dbnbias]\n",
    "    # -----------------\n",
    "\n",
    "    # update\n",
    "    lr = 0.1 if i < 100000 else 0.01 # step learning rate decay\n",
    "    for p, grad in zip(parameters, grads):\n",
    "      #p.data += -lr * p.grad # old way of cheems doge (using PyTorch grad from .backward())\n",
    "      p.data += -lr * grad # new way of swole doge TODO: enable\n",
    "\n",
    "    # track stats\n",
    "    if i % 10000 == 0: # print every once in a while\n",
    "      print(f'{i:7d}/{max_steps:7d}: {loss.item():.4f}')\n",
    "    lossi.append(loss.log10().item())\n",
    "\n",
    "  #   if i >= 100: # TODO: delete early breaking when you're ready to train the full net\n",
    "  #     break"
   ]
  },
  {
   "cell_type": "code",
   "execution_count": 123,
   "metadata": {},
   "outputs": [],
   "source": [
    "# useful for checking your gradients\n",
    "# for p,g in zip(parameters, grads):\n",
    "#   cmp(str(tuple(p.shape)), g, p)"
   ]
  },
  {
   "cell_type": "code",
   "execution_count": 124,
   "metadata": {},
   "outputs": [],
   "source": [
    "# calibrate the batch norm at the end of training\n",
    "\n",
    "with torch.no_grad():\n",
    "  # pass the training set through\n",
    "  emb = C[Xtr]\n",
    "  embcat = emb.view(emb.shape[0], -1)\n",
    "  hpreact = embcat @ W1 + b1\n",
    "  # measure the mean/std over the entire training set\n",
    "  bnmean = hpreact.mean(0, keepdim=True)\n",
    "  bnvar = hpreact.var(0, keepdim=True, unbiased=True)"
   ]
  },
  {
   "cell_type": "code",
   "execution_count": 125,
   "metadata": {},
   "outputs": [
    {
     "name": "stdout",
     "output_type": "stream",
     "text": [
      "train 2.0695688724517822\n",
      "val 2.1073029041290283\n"
     ]
    }
   ],
   "source": [
    "# evaluate train and val loss\n",
    "\n",
    "@torch.no_grad() # this decorator disables gradient tracking\n",
    "def split_loss(split):\n",
    "  x,y = {\n",
    "    'train': (Xtr, Ytr),\n",
    "    'val': (Xdev, Ydev),\n",
    "    'test': (Xte, Yte),\n",
    "  }[split]\n",
    "  emb = C[x] # (N, block_size, n_embd)\n",
    "  embcat = emb.view(emb.shape[0], -1) # concat into (N, block_size * n_embd)\n",
    "  hpreact = embcat @ W1 + b1\n",
    "  hpreact = bngain * (hpreact - bnmean) * (bnvar + 1e-5)**-0.5 + bnbias\n",
    "  h = torch.tanh(hpreact) # (N, n_hidden)\n",
    "  logits = h @ W2 + b2 # (N, vocab_size)\n",
    "  loss = F.cross_entropy(logits, y)\n",
    "  print(split, loss.item())\n",
    "\n",
    "split_loss('train')\n",
    "split_loss('val')"
   ]
  },
  {
   "cell_type": "code",
   "execution_count": 126,
   "metadata": {},
   "outputs": [],
   "source": [
    "# Andrej achieved:\n",
    "# train 2.0718822479248047\n",
    "# val 2.1162495613098145"
   ]
  },
  {
   "cell_type": "code",
   "execution_count": 127,
   "metadata": {},
   "outputs": [
    {
     "name": "stdout",
     "output_type": "stream",
     "text": [
      "mona.\n",
      "mayah.\n",
      "see.\n",
      "mad.\n",
      "rylla.\n",
      "emman.\n",
      "endraegradelynnelin.\n",
      "shi.\n",
      "jenleigh.\n",
      "estanaraelyzion.\n",
      "kamin.\n",
      "shubergihirael.\n",
      "kin.\n",
      "renly.\n",
      "panthona.\n",
      "ube.\n",
      "geder.\n",
      "yarulyeh.\n",
      "yuma.\n",
      "mysen.\n"
     ]
    }
   ],
   "source": [
    "# sample from the model\n",
    "g = torch.Generator().manual_seed(2147483647 + 10)\n",
    "\n",
    "for _ in range(20):\n",
    "    \n",
    "    out = []\n",
    "    context = [0] * block_size # initialize with all ...\n",
    "    while True:\n",
    "      # ------------\n",
    "      # forward pass:\n",
    "      # Embedding\n",
    "      emb = C[torch.tensor([context])] # (1,block_size,d)      \n",
    "      embcat = emb.view(emb.shape[0], -1) # concat into (N, block_size * n_embd)\n",
    "      hpreact = embcat @ W1 + b1\n",
    "      hpreact = bngain * (hpreact - bnmean) * (bnvar + 1e-5)**-0.5 + bnbias\n",
    "      h = torch.tanh(hpreact) # (N, n_hidden)\n",
    "      logits = h @ W2 + b2 # (N, vocab_size)\n",
    "      # ------------\n",
    "      # Sample\n",
    "      probs = F.softmax(logits, dim=1)\n",
    "      ix = torch.multinomial(probs, num_samples=1, generator=g).item()\n",
    "      context = context[1:] + [ix]\n",
    "      out.append(ix)\n",
    "      if ix == 0:\n",
    "        break\n",
    "    \n",
    "    print(''.join(itos[i] for i in out))"
   ]
  }
 ],
 "metadata": {
  "kernelspec": {
   "display_name": "venv",
   "language": "python",
   "name": "python3"
  },
  "language_info": {
   "codemirror_mode": {
    "name": "ipython",
    "version": 3
   },
   "file_extension": ".py",
   "mimetype": "text/x-python",
   "name": "python",
   "nbconvert_exporter": "python",
   "pygments_lexer": "ipython3",
   "version": "3.11.6"
  }
 },
 "nbformat": 4,
 "nbformat_minor": 2
}
