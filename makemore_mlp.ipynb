{
 "cells": [
  {
   "cell_type": "code",
   "execution_count": 1,
   "metadata": {},
   "outputs": [],
   "source": [
    "import torch\n",
    "import torch.nn.functional as F\n",
    "import matplotlib.pyplot as plt\n",
    "%matplotlib inline"
   ]
  },
  {
   "cell_type": "code",
   "execution_count": 2,
   "metadata": {},
   "outputs": [
    {
     "data": {
      "text/plain": [
       "['emma', 'olivia', 'ava', 'isabella', 'sophia', 'charlotte', 'mia', 'amelia']"
      ]
     },
     "execution_count": 2,
     "metadata": {},
     "output_type": "execute_result"
    }
   ],
   "source": [
    "words = open('names.txt', 'r').read().splitlines()\n",
    "words[:8]"
   ]
  },
  {
   "cell_type": "code",
   "execution_count": 3,
   "metadata": {},
   "outputs": [
    {
     "data": {
      "text/plain": [
       "32033"
      ]
     },
     "execution_count": 3,
     "metadata": {},
     "output_type": "execute_result"
    }
   ],
   "source": [
    "len(words)"
   ]
  },
  {
   "cell_type": "code",
   "execution_count": 4,
   "metadata": {},
   "outputs": [
    {
     "name": "stdout",
     "output_type": "stream",
     "text": [
      "{1: 'a', 2: 'b', 3: 'c', 4: 'd', 5: 'e', 6: 'f', 7: 'g', 8: 'h', 9: 'i', 10: 'j', 11: 'k', 12: 'l', 13: 'm', 14: 'n', 15: 'o', 16: 'p', 17: 'q', 18: 'r', 19: 's', 20: 't', 21: 'u', 22: 'v', 23: 'w', 24: 'x', 25: 'y', 26: 'z', 0: '.'}\n"
     ]
    }
   ],
   "source": [
    "# build the vocabulary of characters and mappings to/from integers\n",
    "chars = sorted(list(set(''.join(words))))\n",
    "stoi = {s:i+1 for i, s in enumerate(chars)}\n",
    "stoi['.'] = 0\n",
    "itos = {i:s for s, i in stoi.items()}\n",
    "print(itos)"
   ]
  },
  {
   "cell_type": "code",
   "execution_count": 5,
   "metadata": {},
   "outputs": [
    {
     "name": "stdout",
     "output_type": "stream",
     "text": [
      "emma\n",
      "... ----> e\n",
      "..e ----> m\n",
      ".em ----> m\n",
      "emm ----> a\n",
      "mma ----> .\n",
      "olivia\n",
      "... ----> o\n",
      "..o ----> l\n",
      ".ol ----> i\n",
      "oli ----> v\n",
      "liv ----> i\n",
      "ivi ----> a\n",
      "via ----> .\n",
      "ava\n",
      "... ----> a\n",
      "..a ----> v\n",
      ".av ----> a\n",
      "ava ----> .\n",
      "isabella\n",
      "... ----> i\n",
      "..i ----> s\n",
      ".is ----> a\n",
      "isa ----> b\n",
      "sab ----> e\n",
      "abe ----> l\n",
      "bel ----> l\n",
      "ell ----> a\n",
      "lla ----> .\n",
      "sophia\n",
      "... ----> s\n",
      "..s ----> o\n",
      ".so ----> p\n",
      "sop ----> h\n",
      "oph ----> i\n",
      "phi ----> a\n",
      "hia ----> .\n"
     ]
    }
   ],
   "source": [
    "# build the dataset\n",
    "\n",
    "block_size = 3 # context length: how many charaters do we take to predict the next one?\n",
    "X, Y = [], []\n",
    "for w in words[:5]:\n",
    "\n",
    "  print(w)\n",
    "  context = [0] * block_size\n",
    "  for ch in w + '.':\n",
    "    ix = stoi[ch]\n",
    "    X.append(context)\n",
    "    Y.append(ix)\n",
    "    print(''.join(itos[i] for i in context), '---->', itos[ix])\n",
    "    context = context[1:] + [ix] # crop and append\n",
    "\n",
    "X = torch.tensor(X)\n",
    "Y = torch.tensor(Y)"
   ]
  },
  {
   "cell_type": "code",
   "execution_count": 6,
   "metadata": {},
   "outputs": [
    {
     "data": {
      "text/plain": [
       "(torch.Size([32, 3]), torch.int64, torch.Size([32]), torch.int64)"
      ]
     },
     "execution_count": 6,
     "metadata": {},
     "output_type": "execute_result"
    }
   ],
   "source": [
    "X.shape, X.dtype, Y.shape, Y.dtype"
   ]
  },
  {
   "cell_type": "code",
   "execution_count": 7,
   "metadata": {},
   "outputs": [
    {
     "data": {
      "text/plain": [
       "tensor([[ 0,  0,  0],\n",
       "        [ 0,  0,  5],\n",
       "        [ 0,  5, 13],\n",
       "        [ 5, 13, 13],\n",
       "        [13, 13,  1],\n",
       "        [ 0,  0,  0],\n",
       "        [ 0,  0, 15],\n",
       "        [ 0, 15, 12],\n",
       "        [15, 12,  9],\n",
       "        [12,  9, 22],\n",
       "        [ 9, 22,  9],\n",
       "        [22,  9,  1],\n",
       "        [ 0,  0,  0],\n",
       "        [ 0,  0,  1],\n",
       "        [ 0,  1, 22],\n",
       "        [ 1, 22,  1],\n",
       "        [ 0,  0,  0],\n",
       "        [ 0,  0,  9],\n",
       "        [ 0,  9, 19],\n",
       "        [ 9, 19,  1],\n",
       "        [19,  1,  2],\n",
       "        [ 1,  2,  5],\n",
       "        [ 2,  5, 12],\n",
       "        [ 5, 12, 12],\n",
       "        [12, 12,  1],\n",
       "        [ 0,  0,  0],\n",
       "        [ 0,  0, 19],\n",
       "        [ 0, 19, 15],\n",
       "        [19, 15, 16],\n",
       "        [15, 16,  8],\n",
       "        [16,  8,  9],\n",
       "        [ 8,  9,  1]])"
      ]
     },
     "execution_count": 7,
     "metadata": {},
     "output_type": "execute_result"
    }
   ],
   "source": [
    "X"
   ]
  },
  {
   "cell_type": "code",
   "execution_count": 8,
   "metadata": {},
   "outputs": [
    {
     "data": {
      "text/plain": [
       "tensor([ 5, 13, 13,  1,  0, 15, 12,  9, 22,  9,  1,  0,  1, 22,  1,  0,  9, 19,\n",
       "         1,  2,  5, 12, 12,  1,  0, 19, 15, 16,  8,  9,  1,  0])"
      ]
     },
     "execution_count": 8,
     "metadata": {},
     "output_type": "execute_result"
    }
   ],
   "source": [
    "Y"
   ]
  },
  {
   "cell_type": "code",
   "execution_count": 9,
   "metadata": {},
   "outputs": [],
   "source": [
    "C = torch.randn((27, 2)) # C is lookup table for embeddings"
   ]
  },
  {
   "cell_type": "code",
   "execution_count": 11,
   "metadata": {},
   "outputs": [
    {
     "data": {
      "text/plain": [
       "tensor([ 0.5763, -1.0844])"
      ]
     },
     "execution_count": 11,
     "metadata": {},
     "output_type": "execute_result"
    }
   ],
   "source": [
    "C[5] # indexing the embedding table"
   ]
  },
  {
   "cell_type": "code",
   "execution_count": 13,
   "metadata": {},
   "outputs": [
    {
     "data": {
      "text/plain": [
       "tensor([[ 0.5763, -1.0844],\n",
       "        [ 0.8029,  0.5011],\n",
       "        [-0.8627, -0.1206],\n",
       "        [-0.8627, -0.1206]])"
      ]
     },
     "execution_count": 13,
     "metadata": {},
     "output_type": "execute_result"
    }
   ],
   "source": [
    "C[torch.tensor([5, 6, 7, 7])] # indexing the embedding table with multiple indices"
   ]
  },
  {
   "cell_type": "code",
   "execution_count": 17,
   "metadata": {},
   "outputs": [
    {
     "data": {
      "text/plain": [
       "tensor([[[-2.6279, -0.6899],\n",
       "         [-2.6279, -0.6899],\n",
       "         [-2.6279, -0.6899]],\n",
       "\n",
       "        [[-2.6279, -0.6899],\n",
       "         [-2.6279, -0.6899],\n",
       "         [ 0.5763, -1.0844]],\n",
       "\n",
       "        [[-2.6279, -0.6899],\n",
       "         [ 0.5763, -1.0844],\n",
       "         [ 0.2437, -0.5343]],\n",
       "\n",
       "        [[ 0.5763, -1.0844],\n",
       "         [ 0.2437, -0.5343],\n",
       "         [ 0.2437, -0.5343]],\n",
       "\n",
       "        [[ 0.2437, -0.5343],\n",
       "         [ 0.2437, -0.5343],\n",
       "         [ 0.9836,  1.3922]],\n",
       "\n",
       "        [[-2.6279, -0.6899],\n",
       "         [-2.6279, -0.6899],\n",
       "         [-2.6279, -0.6899]],\n",
       "\n",
       "        [[-2.6279, -0.6899],\n",
       "         [-2.6279, -0.6899],\n",
       "         [-0.3576, -0.5920]],\n",
       "\n",
       "        [[-2.6279, -0.6899],\n",
       "         [-0.3576, -0.5920],\n",
       "         [-1.5347,  0.3173]],\n",
       "\n",
       "        [[-0.3576, -0.5920],\n",
       "         [-1.5347,  0.3173],\n",
       "         [ 1.1523, -1.0812]],\n",
       "\n",
       "        [[-1.5347,  0.3173],\n",
       "         [ 1.1523, -1.0812],\n",
       "         [ 0.5383,  2.0330]],\n",
       "\n",
       "        [[ 1.1523, -1.0812],\n",
       "         [ 0.5383,  2.0330],\n",
       "         [ 1.1523, -1.0812]],\n",
       "\n",
       "        [[ 0.5383,  2.0330],\n",
       "         [ 1.1523, -1.0812],\n",
       "         [ 0.9836,  1.3922]],\n",
       "\n",
       "        [[-2.6279, -0.6899],\n",
       "         [-2.6279, -0.6899],\n",
       "         [-2.6279, -0.6899]],\n",
       "\n",
       "        [[-2.6279, -0.6899],\n",
       "         [-2.6279, -0.6899],\n",
       "         [ 0.9836,  1.3922]],\n",
       "\n",
       "        [[-2.6279, -0.6899],\n",
       "         [ 0.9836,  1.3922],\n",
       "         [ 0.5383,  2.0330]],\n",
       "\n",
       "        [[ 0.9836,  1.3922],\n",
       "         [ 0.5383,  2.0330],\n",
       "         [ 0.9836,  1.3922]],\n",
       "\n",
       "        [[-2.6279, -0.6899],\n",
       "         [-2.6279, -0.6899],\n",
       "         [-2.6279, -0.6899]],\n",
       "\n",
       "        [[-2.6279, -0.6899],\n",
       "         [-2.6279, -0.6899],\n",
       "         [ 1.1523, -1.0812]],\n",
       "\n",
       "        [[-2.6279, -0.6899],\n",
       "         [ 1.1523, -1.0812],\n",
       "         [ 0.6245, -0.1604]],\n",
       "\n",
       "        [[ 1.1523, -1.0812],\n",
       "         [ 0.6245, -0.1604],\n",
       "         [ 0.9836,  1.3922]],\n",
       "\n",
       "        [[ 0.6245, -0.1604],\n",
       "         [ 0.9836,  1.3922],\n",
       "         [-0.9377, -0.7704]],\n",
       "\n",
       "        [[ 0.9836,  1.3922],\n",
       "         [-0.9377, -0.7704],\n",
       "         [ 0.5763, -1.0844]],\n",
       "\n",
       "        [[-0.9377, -0.7704],\n",
       "         [ 0.5763, -1.0844],\n",
       "         [-1.5347,  0.3173]],\n",
       "\n",
       "        [[ 0.5763, -1.0844],\n",
       "         [-1.5347,  0.3173],\n",
       "         [-1.5347,  0.3173]],\n",
       "\n",
       "        [[-1.5347,  0.3173],\n",
       "         [-1.5347,  0.3173],\n",
       "         [ 0.9836,  1.3922]],\n",
       "\n",
       "        [[-2.6279, -0.6899],\n",
       "         [-2.6279, -0.6899],\n",
       "         [-2.6279, -0.6899]],\n",
       "\n",
       "        [[-2.6279, -0.6899],\n",
       "         [-2.6279, -0.6899],\n",
       "         [ 0.6245, -0.1604]],\n",
       "\n",
       "        [[-2.6279, -0.6899],\n",
       "         [ 0.6245, -0.1604],\n",
       "         [-0.3576, -0.5920]],\n",
       "\n",
       "        [[ 0.6245, -0.1604],\n",
       "         [-0.3576, -0.5920],\n",
       "         [ 0.2853, -2.0037]],\n",
       "\n",
       "        [[-0.3576, -0.5920],\n",
       "         [ 0.2853, -2.0037],\n",
       "         [-0.4624, -0.4929]],\n",
       "\n",
       "        [[ 0.2853, -2.0037],\n",
       "         [-0.4624, -0.4929],\n",
       "         [ 1.1523, -1.0812]],\n",
       "\n",
       "        [[-0.4624, -0.4929],\n",
       "         [ 1.1523, -1.0812],\n",
       "         [ 0.9836,  1.3922]]])"
      ]
     },
     "execution_count": 17,
     "metadata": {},
     "output_type": "execute_result"
    }
   ],
   "source": [
    "C[X] # get the embeddings for the multi dim"
   ]
  },
  {
   "cell_type": "code",
   "execution_count": 15,
   "metadata": {},
   "outputs": [
    {
     "data": {
      "text/plain": [
       "torch.Size([32, 3, 2])"
      ]
     },
     "execution_count": 15,
     "metadata": {},
     "output_type": "execute_result"
    }
   ],
   "source": [
    "C[X].shape"
   ]
  },
  {
   "cell_type": "code",
   "execution_count": 20,
   "metadata": {},
   "outputs": [
    {
     "data": {
      "text/plain": [
       "tensor(1)"
      ]
     },
     "execution_count": 20,
     "metadata": {},
     "output_type": "execute_result"
    }
   ],
   "source": [
    "X[13, 2]"
   ]
  },
  {
   "cell_type": "code",
   "execution_count": 23,
   "metadata": {},
   "outputs": [
    {
     "data": {
      "text/plain": [
       "tensor([0.9836, 1.3922])"
      ]
     },
     "execution_count": 23,
     "metadata": {},
     "output_type": "execute_result"
    }
   ],
   "source": [
    "C[X][13,2]"
   ]
  },
  {
   "cell_type": "code",
   "execution_count": 24,
   "metadata": {},
   "outputs": [
    {
     "data": {
      "text/plain": [
       "tensor([0.9836, 1.3922])"
      ]
     },
     "execution_count": 24,
     "metadata": {},
     "output_type": "execute_result"
    }
   ],
   "source": [
    "C[1]"
   ]
  },
  {
   "cell_type": "code",
   "execution_count": 25,
   "metadata": {},
   "outputs": [
    {
     "data": {
      "text/plain": [
       "torch.Size([32, 3, 2])"
      ]
     },
     "execution_count": 25,
     "metadata": {},
     "output_type": "execute_result"
    }
   ],
   "source": [
    "emb = C[X] # embeddings\n",
    "emb.shape"
   ]
  },
  {
   "cell_type": "code",
   "execution_count": 26,
   "metadata": {},
   "outputs": [],
   "source": [
    "# construct the hidden layer\n",
    "W1 = torch.randn((6, 100)) # we have three inputs with 2 dim each 3*2 = 6, and 100 hidden neurons(This is up to us to decide)\n",
    "b1 = torch.randn((100)) # biases for the hidden layer"
   ]
  },
  {
   "cell_type": "code",
   "execution_count": 27,
   "metadata": {},
   "outputs": [
    {
     "ename": "RuntimeError",
     "evalue": "mat1 and mat2 shapes cannot be multiplied (96x2 and 6x100)",
     "output_type": "error",
     "traceback": [
      "\u001b[1;31m---------------------------------------------------------------------------\u001b[0m",
      "\u001b[1;31mRuntimeError\u001b[0m                              Traceback (most recent call last)",
      "Cell \u001b[1;32mIn[27], line 1\u001b[0m\n\u001b[1;32m----> 1\u001b[0m \u001b[43memb\u001b[49m\u001b[43m \u001b[49m\u001b[38;5;241;43m@\u001b[39;49m\u001b[43m \u001b[49m\u001b[43mW1\u001b[49m \u001b[38;5;241m+\u001b[39m b1\n",
      "\u001b[1;31mRuntimeError\u001b[0m: mat1 and mat2 shapes cannot be multiplied (96x2 and 6x100)"
     ]
    }
   ],
   "source": [
    "emb @ W1 + b1 # wont work yet because of the shape"
   ]
  },
  {
   "cell_type": "code",
   "execution_count": 28,
   "metadata": {},
   "outputs": [
    {
     "data": {
      "text/plain": [
       "torch.Size([32, 6])"
      ]
     },
     "execution_count": 28,
     "metadata": {},
     "output_type": "execute_result"
    }
   ],
   "source": [
    "torch.cat(torch.unbind(emb, 1), 1).shape # One way to concatenate the embeddings shape but it will create a new storage"
   ]
  },
  {
   "cell_type": "code",
   "execution_count": 37,
   "metadata": {},
   "outputs": [
    {
     "data": {
      "text/plain": [
       "tensor([[ 1.0000, -0.8243,  0.9974,  ..., -1.0000, -0.9830,  0.9829],\n",
       "        [ 0.9996,  0.2747,  0.9996,  ..., -1.0000, -0.9765,  0.9996],\n",
       "        [ 0.9955,  0.4283,  0.9960,  ..., -0.9998, -0.1696, -0.8686],\n",
       "        ...,\n",
       "        [ 0.9695, -0.8833,  0.9255,  ..., -0.9999,  0.0931,  0.5117],\n",
       "        [-0.8003,  0.4855,  0.9999,  ..., -0.8724, -0.9740,  0.9968],\n",
       "        [ 0.9378, -0.3617, -0.9694,  ..., -0.9992,  0.9964, -0.9893]])"
      ]
     },
     "execution_count": 37,
     "metadata": {},
     "output_type": "execute_result"
    }
   ],
   "source": [
    "h = torch.tanh(emb.view(-1, 6) @ W1 + b1) # Another way to concatenate the embeddings shape uaing the view which is more efficient\n",
    "h"
   ]
  },
  {
   "cell_type": "code",
   "execution_count": 38,
   "metadata": {},
   "outputs": [
    {
     "data": {
      "text/plain": [
       "torch.Size([32, 100])"
      ]
     },
     "execution_count": 38,
     "metadata": {},
     "output_type": "execute_result"
    }
   ],
   "source": [
    "h.shape"
   ]
  },
  {
   "cell_type": "code",
   "execution_count": 39,
   "metadata": {},
   "outputs": [],
   "source": [
    "# construct the output/final layer\n",
    "W2 = torch.randn((100, 27)) # we have 100 inputs and 27 possible characters\n",
    "b2 = torch.randn((27)) # biases for the output layer"
   ]
  },
  {
   "cell_type": "code",
   "execution_count": null,
   "metadata": {},
   "outputs": [],
   "source": []
  }
 ],
 "metadata": {
  "kernelspec": {
   "display_name": "venv",
   "language": "python",
   "name": "python3"
  },
  "language_info": {
   "codemirror_mode": {
    "name": "ipython",
    "version": 3
   },
   "file_extension": ".py",
   "mimetype": "text/x-python",
   "name": "python",
   "nbconvert_exporter": "python",
   "pygments_lexer": "ipython3",
   "version": "3.11.6"
  }
 },
 "nbformat": 4,
 "nbformat_minor": 2
}
